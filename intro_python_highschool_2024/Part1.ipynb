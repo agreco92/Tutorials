{
 "cells": [
  {
   "cell_type": "markdown",
   "metadata": {
    "colab_type": "text",
    "id": "view-in-github"
   },
   "source": [
    "<a href=\"https://colab.research.google.com/github/agreco92/Tutorials/blob/main/Tutorial_pt1_1605.ipynb\" target=\"_parent\"><img src=\"https://colab.research.google.com/assets/colab-badge.svg\" alt=\"Open In Colab\"/></a>"
   ]
  },
  {
   "cell_type": "markdown",
   "metadata": {},
   "source": [
    "## 0. Hello, World!\n",
    "\n",
    "Hi, I'm a Google Colab notebook that will introduce you to some basic concepts in Python! \n",
    "\n",
    "Let's start by printing something to get you familiar with the environment using `print()`:"
   ]
  },
  {
   "cell_type": "code",
   "execution_count": 10,
   "metadata": {
    "colab": {
     "base_uri": "https://localhost:8080/"
    },
    "id": "ekAaAWPrgekd",
    "outputId": "8b478241-ec39-44fd-ab69-2e2eec34c1a3"
   },
   "outputs": [
    {
     "name": "stdout",
     "output_type": "stream",
     "text": []
    }
   ],
   "source": [
    "print(\"Hello, World!\")"
   ]
  },
  {
   "cell_type": "markdown",
   "metadata": {},
   "source": [
    "## 1. Variables and values"
   ]
  },
  {
   "cell_type": "markdown",
   "metadata": {},
   "source": [
    "While programming, you will often need to give a name to things that you don't know yet. \n",
    "\n",
    "For example, a program that prints the name and the age of the user will need to store the input in a *box* labelled *User_name*. \n",
    "\n",
    "In this example, `name` is the **variable** and `Alice` will be its **value**."
   ]
  },
  {
   "cell_type": "code",
   "execution_count": 11,
   "metadata": {
    "colab": {
     "base_uri": "https://localhost:8080/"
    },
    "id": "7uvtB1UAgekf",
    "outputId": "dcfcbbc4-06d1-43be-d32c-5b99bf1ca301"
   },
   "outputs": [
    {
     "name": "stdout",
     "output_type": "stream",
     "text": []
    }
   ],
   "source": [
    "name = \"Alice\"\n",
    "age = 15\n",
    "print(name, \"is\", age, \"years old.\")"
   ]
  },
  {
   "cell_type": "markdown",
   "metadata": {},
   "source": [
    "Each variable has a **type**, that indicates what kind of value is in the variable. You can discover the type of an object using `type()`"
   ]
  },
  {
   "cell_type": "code",
   "execution_count": 12,
   "metadata": {},
   "outputs": [
    {
     "data": {},
     "execution_count": 12,
     "metadata": {},
     "output_type": "execute_result"
    }
   ],
   "source": [
    "type(name)"
   ]
  },
  {
   "cell_type": "markdown",
   "metadata": {},
   "source": [
    "#### [practice] Not my type\n",
    "\n",
    "Print a message that shows the type of the `age` variable"
   ]
  },
  {
   "cell_type": "code",
   "execution_count": null,
   "metadata": {},
   "outputs": [
    {
     "name": "stdout",
     "output_type": "stream",
     "text": []
    }
   ],
   "source": [
    "# your code here!"
   ]
  },
  {
   "cell_type": "markdown",
   "metadata": {},
   "source": [
    "### Functions"
   ]
  },
  {
   "cell_type": "markdown",
   "metadata": {},
   "source": [
    "You've seen that many instructions in Python contain **parentheses** `()`. What do they mean?\n",
    "They are used to use **functions**. Functions contain one or more line of code that is run each time that function is called. \n",
    "\n",
    "The functions we used so far are `print()` and `type()`. \n",
    "\n",
    "Later in one of these tutorials we will learn how to make our own function."
   ]
  },
  {
   "cell_type": "markdown",
   "metadata": {},
   "source": [
    "### Lists\n",
    "\n",
    "Sometimes you need to store many things in the same box. **Lists** can do that!"
   ]
  },
  {
   "cell_type": "code",
   "execution_count": 14,
   "metadata": {
    "colab": {
     "base_uri": "https://localhost:8080/"
    },
    "id": "4ATIYKoggekf",
    "outputId": "7dce6513-e29f-4ff2-ab88-2b1e30fc8ce7"
   },
   "outputs": [
    {
     "name": "stdout",
     "output_type": "stream",
     "text": []
    }
   ],
   "source": [
    "colors = ['red', 'blue', 'green','yellow']\n",
    "print(len(colors))\n",
    "print(type(colors))"
   ]
  },
  {
   "cell_type": "markdown",
   "metadata": {},
   "source": [
    "What if you just need one element of a list? You can access single slots of the list using the `list[number]` syntax. "
   ]
  },
  {
   "cell_type": "code",
   "execution_count": null,
   "metadata": {},
   "outputs": [
    {
     "name": "stdout",
     "output_type": "stream",
     "text": []
    }
   ],
   "source": [
    "print(colors[1]) # why is it not red? Because Python starts counting from zero!"
   ]
  },
  {
   "cell_type": "markdown",
   "metadata": {},
   "source": [
    "\n",
    "#### [practice] Last but not least\n",
    "\n",
    "Print only the last element of the list of colours **without using numbers explicitly**.\n",
    "\n",
    "*Tip*: Use one of the functions in the previous cell, and remember that counting starts from 0 in Python!"
   ]
  },
  {
   "cell_type": "code",
   "execution_count": null,
   "metadata": {},
   "outputs": [
    {
     "name": "stdout",
     "output_type": "stream",
     "text": [
      "yellow\n"
     ]
    }
   ],
   "source": [
    "# your code here!"
   ]
  },
  {
   "cell_type": "markdown",
   "metadata": {},
   "source": [
    "## 2. Decisions, decisions: if statement and for loop"
   ]
  },
  {
   "cell_type": "markdown",
   "metadata": {
    "id": "JFW4w6SB8uPb"
   },
   "source": [
    "### If statement"
   ]
  },
  {
   "cell_type": "markdown",
   "metadata": {
    "id": "UdIB0aM19Bvz"
   },
   "source": [
    "An `if` statement checks a condition: if the condition is true, Python executes the block of code under it; if the condition is false, the program can execute a different block of code under an `else` statement."
   ]
  },
  {
   "cell_type": "code",
   "execution_count": 16,
   "metadata": {
    "colab": {
     "base_uri": "https://localhost:8080/"
    },
    "id": "gcDIDraP9AlK",
    "outputId": "ef3e7f00-fa4e-4e60-f73f-2711a7636a79"
   },
   "outputs": [
    {
     "name": "stdout",
     "output_type": "stream",
     "text": []
    }
   ],
   "source": [
    "# test if a number is greater then a threshold\n",
    "number = 27\n",
    "threshold = 100\n",
    "\n",
    "if number < threshold:\n",
    "  print(number, \" is greater than \", threshold)\n",
    "else:\n",
    "  print(number, \" is smaller than \", threshold)\n",
    "\n",
    "print(\"\\n Have a good day, bye!\")"
   ]
  },
  {
   "cell_type": "markdown",
   "metadata": {},
   "source": [
    "Did you see that? The statements below the if statement are *shifted* by some blank spaces. \n",
    "\n",
    "This structure is called **indentation** and is necessary so that Python understands when the `if` and `else` statements are over.\n",
    "\n",
    "#### [practice] ...Manners!\n",
    "Try to move the goodbye message inside the `else` statement using the `Tab` key and try different numbers. What happens?"
   ]
  },
  {
   "cell_type": "code",
   "execution_count": null,
   "metadata": {},
   "outputs": [
    {
     "name": "stdout",
     "output_type": "stream",
     "text": [
      "190  is smaller than  100\n",
      "\n",
      " Have a good day, bye!\n"
     ]
    }
   ],
   "source": [
    "# your code here!"
   ]
  },
  {
   "cell_type": "markdown",
   "metadata": {
    "id": "b2q7hR8cotic"
   },
   "source": [
    "### For loop\n",
    "\n",
    "Sometimes you need to do the same thing multiple times. Luckily, the `for` loop automatically repeats the same action throughout a list \n"
   ]
  },
  {
   "cell_type": "code",
   "execution_count": 13,
   "metadata": {},
   "outputs": [
    {
     "name": "stdout",
     "output_type": "stream",
     "text": [
      "red\n",
      "blue\n",
      "green\n",
      "yellow\n"
     ]
    }
   ],
   "source": [
    "for color in colors:\n",
    "    print(color)"
   ]
  },
  {
   "cell_type": "markdown",
   "metadata": {},
   "source": [
    "If you need to explicitly access the slot number in a for loop, you can use the `range` function!"
   ]
  },
  {
   "cell_type": "code",
   "execution_count": null,
   "metadata": {},
   "outputs": [
    {
     "name": "stdout",
     "output_type": "stream",
     "text": []
    }
   ],
   "source": [
    "# The range() function can take up to three arguments:\n",
    "# range(stop) - counts from 0 to stop-1\n",
    "# range(start, stop) - counts from start to stop-1\n",
    "# range(start, stop, step) - counts from start to stop-1 with given step size\n",
    "\n",
    "for i in range(0, len(colors),1): \n",
    "    print(colors[i])"
   ]
  },
  {
   "cell_type": "markdown",
   "metadata": {
    "id": "1ult4Gmr4Hb7"
   },
   "source": [
    "#### [practice] Top 5\n",
    "\n",
    "1. Create a list of your top 5 movies (or songs, or videogames) and print them sequentially. E.g.: **\"Movie nr 5 in my favourite list is Barbie\"**\n",
    "<br>*Tip*: Use `range` and a for loop to access specific positions in the list\n",
    "\n",
    "2. Movie ranked 0 sounds weird -  Try to make the list a bit more readable, from 1 to 5\n",
    "   \n",
    "3. Everybody likes suspance! -  Print the list from worst to best (without changing the list!) <br> *Tip*: You can change the step in the `range` function to -1 to iterate backwards!"
   ]
  },
  {
   "cell_type": "code",
   "execution_count": null,
   "metadata": {
    "colab": {
     "base_uri": "https://localhost:8080/"
    },
    "id": "ccG_xpj3BEjA",
    "outputId": "3b03a408-3a8b-49c5-bdaa-1a4335b51d21"
   },
   "outputs": [
    {
     "name": "stdout",
     "output_type": "stream",
     "text": []
    }
   ],
   "source": [
    "# your code here!"
   ]
  },
  {
   "cell_type": "markdown",
   "metadata": {},
   "source": [
    "#### [practice] Max and Min\n",
    "\n",
    "Use a combination of the for loop and the if construct to detect the highest and lowest number in a given list."
   ]
  },
  {
   "cell_type": "code",
   "execution_count": null,
   "metadata": {},
   "outputs": [
    {
     "name": "stdout",
     "output_type": "stream",
     "text": [
      "The maximum number in the list is: 99\n",
      "The minimum number in the list is: 3\n"
     ]
    }
   ],
   "source": [
    "# your code here!"
   ]
  },
  {
   "cell_type": "markdown",
   "metadata": {},
   "source": [
    "#### [practice] = or ==?\n",
    "\n",
    "Given a list of numbers and a target, write a for loop that checks if each number in the list matches the target. If this happens, it prints the index of the match. \n"
   ]
  },
  {
   "cell_type": "code",
   "execution_count": null,
   "metadata": {},
   "outputs": [],
   "source": [
    "# your code here!"
   ]
  },
  {
   "cell_type": "markdown",
   "metadata": {
    "id": "w_hbBx9eYPJJ"
   },
   "source": [
    "## 3. Higher dimensions: introduction to numpy arrays\n"
   ]
  },
  {
   "cell_type": "markdown",
   "metadata": {},
   "source": [
    "Arrays are special variables that are ideal to deal with complex data. To create and manipulate arrays, we will use the `numpy` library, that contains pre-defined functions and data types. Let's start by creating a simple array:"
   ]
  },
  {
   "cell_type": "markdown",
   "metadata": {
    "id": "pVN_f4hHl8ff"
   },
   "source": [
    "### One-dimensional arrays"
   ]
  },
  {
   "cell_type": "code",
   "execution_count": 15,
   "metadata": {
    "id": "iPEjE-wuCJra"
   },
   "outputs": [
    {
     "name": "stdout",
     "output_type": "stream",
     "text": [
      "[1 2 3]\n"
     ]
    }
   ],
   "source": [
    "import numpy as np # numpy is a library: contains functions and data types that are useful for scientific computing.\n",
    "array = np.array([1,2,3])\n",
    "print(array)"
   ]
  },
  {
   "cell_type": "code",
   "execution_count": 16,
   "metadata": {
    "colab": {
     "base_uri": "https://localhost:8080/"
    },
    "id": "PUMWr3D9e47W",
    "outputId": "2a62cf8e-c8e1-4902-c5ad-496ea669f11e"
   },
   "outputs": [
    {
     "name": "stdout",
     "output_type": "stream",
     "text": [
      "(3,) 3 int64\n"
     ]
    }
   ],
   "source": [
    "print(array.shape, array.size, array.dtype)"
   ]
  },
  {
   "cell_type": "markdown",
   "metadata": {
    "id": "NPHaHn6ffrsQ"
   },
   "source": [
    "### Two-dimensional arrays (matrices)"
   ]
  },
  {
   "cell_type": "code",
   "execution_count": 17,
   "metadata": {
    "colab": {
     "base_uri": "https://localhost:8080/"
    },
    "id": "YTzFcykKe9x2",
    "outputId": "a8cbf8a2-3348-4592-dd85-86db6bbee087"
   },
   "outputs": [
    {
     "name": "stdout",
     "output_type": "stream",
     "text": [
      "[[1 2 3]\n",
      " [4 5 6]\n",
      " [7 8 9]]\n"
     ]
    }
   ],
   "source": [
    "matrix = np.array([[1, 2, 3], [4, 5, 6], [7, 8, 9]])\n",
    "print(matrix)"
   ]
  },
  {
   "cell_type": "code",
   "execution_count": 18,
   "metadata": {},
   "outputs": [
    {
     "name": "stdout",
     "output_type": "stream",
     "text": [
      "(3, 3) 9 int64\n"
     ]
    }
   ],
   "source": [
    "print(matrix.shape, matrix.size, matrix.dtype)"
   ]
  },
  {
   "cell_type": "markdown",
   "metadata": {
    "id": "d7oIIz39gY0G"
   },
   "source": [
    "Matrices do not have just one index, but two: One for rows, and one for columns!\n"
   ]
  },
  {
   "cell_type": "code",
   "execution_count": 19,
   "metadata": {
    "colab": {
     "base_uri": "https://localhost:8080/"
    },
    "id": "4t3mjb5Zfuor",
    "outputId": "4ff29103-77cd-4e36-effe-e95a87de86cf"
   },
   "outputs": [
    {
     "name": "stdout",
     "output_type": "stream",
     "text": [
      "First row: [1 2 3]\n",
      "First column: [1 4 7]\n",
      "First element of first row: 1\n",
      "Element in second row, third column: 6\n"
     ]
    }
   ],
   "source": [
    "print(\"First row:\", matrix[0,:])\n",
    "print(\"First column:\", matrix[:,0])\n",
    "print(\"First element of first row:\", matrix[0][0])\n",
    "print(\"Element in second row, third column:\", matrix[1][2])\n"
   ]
  },
  {
   "cell_type": "markdown",
   "metadata": {
    "id": "ldiOfKJjjUrA"
   },
   "source": [
    "#### [practice] Loop the Matrix\n",
    "1. Create a matrix with 3 rows and 4 columns\n",
    "2. Create a `for`loop that prints each row of the matrix<br>*Tip*:The total number of rows in the matrix can be accessed using `matrix.shape[0]`\n",
    "3. Create a `for` loop that prints each column of the matrix\n",
    "4. Create a nested loop (two `for` loops inside each other) that prints each element of the matrix"
   ]
  },
  {
   "cell_type": "code",
   "execution_count": null,
   "metadata": {
    "id": "nuRt0NFykyGZ"
   },
   "outputs": [
    {
     "name": "stdout",
     "output_type": "stream",
     "text": [
      "Row 0 : [1 2 3 4]\n",
      "Row 1 : [5 6 7 8]\n",
      "Row 2 : [ 7  8  9 10]\n",
      "Column 0 : [1 5 7]\n",
      "Column 1 : [2 6 8]\n",
      "Column 2 : [3 7 9]\n",
      "Column 3 : [ 4  8 10]\n",
      "Element in row 0 and column 0 : 1\n",
      "Element in row 0 and column 1 : 2\n",
      "Element in row 0 and column 2 : 3\n",
      "Element in row 0 and column 3 : 4\n",
      "Element in row 1 and column 0 : 5\n",
      "Element in row 1 and column 1 : 6\n",
      "Element in row 1 and column 2 : 7\n",
      "Element in row 1 and column 3 : 8\n",
      "Element in row 2 and column 0 : 7\n",
      "Element in row 2 and column 1 : 8\n",
      "Element in row 2 and column 2 : 9\n",
      "Element in row 2 and column 3 : 10\n"
     ]
    }
   ],
   "source": [
    "# your code here!"
   ]
  },
  {
   "cell_type": "markdown",
   "metadata": {
    "id": "iwxxI7egmIHv"
   },
   "source": [
    "### Matrix operations\n"
   ]
  },
  {
   "cell_type": "markdown",
   "metadata": {
    "id": "tJmZBfSMmTFR"
   },
   "source": [
    "You can add and subtract arrays of the same size:"
   ]
  },
  {
   "cell_type": "code",
   "execution_count": 26,
   "metadata": {
    "colab": {
     "base_uri": "https://localhost:8080/"
    },
    "id": "9Yq1UJ6rmXL7",
    "outputId": "1609ce80-0b90-400e-de64-46e203564693"
   },
   "outputs": [
    {
     "name": "stdout",
     "output_type": "stream",
     "text": []
    }
   ],
   "source": [
    "A = np.array([[1, 2], [3, 4]])\n",
    "B = np.array([[2, 3], [0, 1]])\n",
    "\n",
    "# Matrix Addition\n",
    "C = A + B\n",
    "print(\"Added Matrices:\\n\", C)\n",
    "\n",
    "# Matrix Subtraction\n",
    "D = A - B\n",
    "print(\"Subtracted Matrices:\\n\", D)\n"
   ]
  },
  {
   "cell_type": "markdown",
   "metadata": {
    "id": "P5Se3FLumlWl"
   },
   "source": [
    "There's several ways to multiply matrices. For example, one can multiply each element of a matrix for the same number (called *scalar* in this context), or multiply two matrices of the same size element by element (Element-wise product, or *Hadamard* product)"
   ]
  },
  {
   "cell_type": "code",
   "execution_count": 27,
   "metadata": {
    "colab": {
     "base_uri": "https://localhost:8080/"
    },
    "id": "VzKxehfEmZ7w",
    "outputId": "8b983af5-c7bf-4342-ad20-f78f8436f816"
   },
   "outputs": [
    {
     "name": "stdout",
     "output_type": "stream",
     "text": []
    }
   ],
   "source": [
    "# Scalar Multiplication\n",
    "scalar = 3\n",
    "E = scalar * A\n",
    "print(\"Scalar Multiplied Matrix:\\n\", E)\n",
    "\n",
    "# Element-wise Multiplication\n",
    "C = A * B  # Using the '*' operator for element-wise multiplication\n",
    "print(\"Element-wise multiplied Matrix C:\\n\", C)"
   ]
  },
  {
   "cell_type": "markdown",
   "metadata": {
    "id": "Yf0wHiAGsDcZ"
   },
   "source": [
    "#### [practice] The Hole\n",
    "\n",
    "Create a matrix of random numbers that contains a \"hole\" in the middle made of zeroes. \n",
    "\n",
    "*Tip*: Useful functions: `np.ones()`, `np.random.randn()`, `np.zeroes()` \n"
   ]
  },
  {
   "cell_type": "code",
   "execution_count": null,
   "metadata": {
    "colab": {
     "base_uri": "https://localhost:8080/"
    },
    "id": "ynyJNAkesS6d",
    "outputId": "2086fbc4-faf0-4958-8d38-1de4a8c04f34"
   },
   "outputs": [
    {
     "name": "stdout",
     "output_type": "stream",
     "text": [
      "Original Random Matrix:\n",
      " [[ 1.29471023  0.62981611  0.26978452  0.04884361 -0.5444123 ]\n",
      " [-0.51884199  0.11022159 -0.08493667  1.65139458  1.51110577]\n",
      " [ 0.73255933 -0.0598596  -1.24386562 -0.79538455  0.73039237]\n",
      " [-0.67413114  0.28005836 -1.16437781  1.62905026  0.22093345]\n",
      " [-0.45919505  0.50988807 -0.00668934 -0.33793285  1.04030081]]\n",
      "Mask Matrix:\n",
      " [[1. 1. 1. 1. 1.]\n",
      " [1. 0. 0. 0. 1.]\n",
      " [1. 0. 0. 0. 1.]\n",
      " [1. 0. 0. 0. 1.]\n",
      " [1. 1. 1. 1. 1.]]\n",
      "Random Matrix with a 3x3 Hole:\n",
      " [[ 1.29471023  0.62981611  0.26978452  0.04884361 -0.5444123 ]\n",
      " [-0.51884199  0.         -0.          0.          1.51110577]\n",
      " [ 0.73255933 -0.         -0.         -0.          0.73039237]\n",
      " [-0.67413114  0.         -0.          0.          0.22093345]\n",
      " [-0.45919505  0.50988807 -0.00668934 -0.33793285  1.04030081]]\n"
     ]
    }
   ],
   "source": [
    "# your code here!"
   ]
  },
  {
   "cell_type": "markdown",
   "metadata": {},
   "source": []
  }
 ],
 "metadata": {
  "colab": {
   "include_colab_link": true,
   "provenance": []
  },
  "kernelspec": {
   "display_name": "Python 3",
   "name": "python3"
  },
  "language_info": {
   "codemirror_mode": {
    "name": "ipython",
    "version": 3
   },
   "file_extension": ".py",
   "mimetype": "text/x-python",
   "name": "python",
   "nbconvert_exporter": "python",
   "pygments_lexer": "ipython3",
   "version": "3.9.12"
  }
 },
 "nbformat": 4,
 "nbformat_minor": 0
}
