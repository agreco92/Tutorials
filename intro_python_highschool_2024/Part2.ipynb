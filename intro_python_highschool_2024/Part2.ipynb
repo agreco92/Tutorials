{
  "cells": [
    {
      "cell_type": "markdown",
      "metadata": {
        "colab_type": "text",
        "id": "view-in-github"
      },
      "source": [
        "<a href=\"https://colab.research.google.com/github/agreco92/Tutorials/blob/main/Tutorial_pt2_1605.ipynb\" target=\"_parent\"><img src=\"https://colab.research.google.com/assets/colab-badge.svg\" alt=\"Open In Colab\"/></a>"
      ]
    },
    {
      "cell_type": "code",
      "execution_count": null,
      "metadata": {
        "id": "tIZcRArFsEMC"
      },
      "outputs": [],
      "source": [
        "import matplotlib.pyplot as plt\n",
        "import matplotlib.image as mpimg\n",
        "import numpy as np\n",
        "import pandas as pd\n",
        "import seaborn as sns\n",
        "from sklearn.metrics import confusion_matrix"
      ]
    },
    {
      "cell_type": "code",
      "execution_count": null,
      "metadata": {},
      "outputs": [],
      "source": [
        "# Forward and inverse transformation functions\n",
        "def sqrt_scale(x):\n",
        "    return np.sqrt(x)\n",
        "\n",
        "def inv_sqrt_scale(x):\n",
        "    return np.power(x, 2)\n",
        "\n",
        "# Define the log1p and expm1 transformation functions\n",
        "def log1p_transform(x):\n",
        "    return np.log(x + 5)\n",
        "\n",
        "def expm1_transform(x):\n",
        "    return np.exp(x) - 5"
      ]
    },
    {
      "cell_type": "markdown",
      "metadata": {},
      "source": [
        "## 1. Images in Python\n",
        "\n",
        "How are images represented in Python? Let's load the picture of a bee and check it out!"
      ]
    },
    {
      "cell_type": "code",
      "execution_count": null,
      "metadata": {
        "colab": {
          "base_uri": "https://localhost:8080/",
          "height": 428
        },
        "id": "hY7GdW53sH62",
        "outputId": "13cfb4f7-676e-496b-89f5-6d4aab53239f"
      },
      "outputs": [],
      "source": [
        "# Load an image\n",
        "image = mpimg.imread(\"./datasets/weber_bees/presence_absence_task/015.jpg\")\n",
        "\n",
        "plt.imshow(image)\n",
        "plt.show()"
      ]
    },
    {
      "cell_type": "markdown",
      "metadata": {},
      "source": [
        "### [practice] investigation\n",
        "\n",
        "The `plt.imshow()` function can display an image, but we still don't know how to manipulate it. Use the next few minutes to:\n",
        "\n",
        "1. Discover the structure of the `image` object using and the `image.shape`, `image.dtype`. What is it?\n",
        "2. Use slicing (`image`) to display different parts of the images. Can you \"zoom\" on the bee? <br>*Tip*: Define a `section` object using the slicing operation [:,:,:] and plot it using the `plt.imshow()`. What does each index represent? "
      ]
    },
    {
      "cell_type": "code",
      "execution_count": null,
      "metadata": {
        "colab": {
          "base_uri": "https://localhost:8080/"
        },
        "id": "ZStsKgxm4pmu",
        "outputId": "f83b58fb-5129-4bc0-fdf4-a7a4e602d376"
      },
      "outputs": [],
      "source": [
        "# your code here"
      ]
    },
    {
      "cell_type": "markdown",
      "metadata": {},
      "source": [
        "Now that we understood the structure of an image, let's see the range of values inside the matrices:"
      ]
    },
    {
      "cell_type": "code",
      "execution_count": null,
      "metadata": {},
      "outputs": [],
      "source": [
        "image[:5,:5,0]"
      ]
    },
    {
      "cell_type": "markdown",
      "metadata": {},
      "source": [
        "We can understand the range more completely using the `np.min()`and `np.max()` functions:"
      ]
    },
    {
      "cell_type": "code",
      "execution_count": null,
      "metadata": {},
      "outputs": [],
      "source": [
        "np.min(image), np.max(image)"
      ]
    },
    {
      "cell_type": "markdown",
      "metadata": {
        "id": "TWInPik-5m3z"
      },
      "source": [
        "## 2. Dissection of a color: Red-Green-Blue colour composition"
      ]
    },
    {
      "cell_type": "markdown",
      "metadata": {},
      "source": [
        "Each of the three matrices contains the pixel intensity for each colour. Let's look at each channel separately!"
      ]
    },
    {
      "attachments": {
        "image.png": {
          "image/png": "[encoded data removed]"
        }
      },
      "cell_type": "markdown",
      "metadata": {},
      "source": [
        "![image.png](attachment:image.png)"
      ]
    },
    {
      "cell_type": "code",
      "execution_count": null,
      "metadata": {
        "colab": {
          "base_uri": "https://localhost:8080/",
          "height": 319
        },
        "id": "eGI82FNm4uj5",
        "outputId": "b7f64e4f-b35c-4ca3-e804-b269c5dec823"
      },
      "outputs": [],
      "source": [
        "# Split into color channels\n",
        "red_channel = image[:, :, 0]   # Red channel\n",
        "green_channel = image[:, :, 1] # Green channel\n",
        "blue_channel = image[:, :, 2]  # Blue channel\n",
        "\n",
        "# Display each color channel\n",
        "fig, axs = plt.subplots(1, 4, figsize=(15, 5))  # Create 1x4 subplot\n",
        "\n",
        "axs[0].imshow(image)\n",
        "axs[0].set_title('Original Image')\n",
        "axs[0].axis('off')  # Hide axes ticks\n",
        "\n",
        "axs[1].imshow(red_channel, cmap='Reds')\n",
        "axs[1].set_title('Red Channel')\n",
        "axs[1].axis('off')\n",
        "\n",
        "axs[2].imshow(green_channel, cmap='Greens')\n",
        "axs[2].set_title('Green Channel')\n",
        "axs[2].axis('off')\n",
        "\n",
        "axs[3].imshow(blue_channel, cmap='Blues')\n",
        "axs[3].set_title('Blue Channel')\n",
        "axs[3].axis('off')\n",
        "\n",
        "plt.show()\n"
      ]
    },
    {
      "cell_type": "code",
      "execution_count": null,
      "metadata": {},
      "outputs": [],
      "source": [
        "image[:5,:5,0]"
      ]
    },
    {
      "cell_type": "markdown",
      "metadata": {},
      "source": [
        "#### [practice]: No Red!\n",
        "\n",
        "Set the intensity of the blue channel to zero, see how the image looks like now!"
      ]
    },
    {
      "cell_type": "code",
      "execution_count": null,
      "metadata": {
        "id": "Gid86Abn5Mwt"
      },
      "outputs": [],
      "source": [
        "# write your code here!"
      ]
    },
    {
      "cell_type": "markdown",
      "metadata": {},
      "source": [
        "#### [exercise] Colour alchemy\n",
        "Manipulate the image to make the background orange"
      ]
    },
    {
      "cell_type": "code",
      "execution_count": null,
      "metadata": {},
      "outputs": [],
      "source": [
        "# Zero out the blue channel and display the modified image\n",
        "image_alchemy = image.copy()\n",
        "image_alchemy[:, :, 1] = 0.6 *image[:, :, 1]\n",
        "image_alchemy[:, :, 0] = 1.5 *image[:, :, 0]\n",
        "image_alchemy[:, :, 2] = 0\n",
        "\n",
        "plt.imshow(image_alchemy)\n",
        "plt.axis('off')\n",
        "plt.show()"
      ]
    },
    {
      "cell_type": "markdown",
      "metadata": {},
      "source": [
        "## 3. \"Quantify\" an image: Color histograms"
      ]
    },
    {
      "cell_type": "markdown",
      "metadata": {},
      "source": [
        "#### [board] What is a colour histogram?"
      ]
    },
    {
      "cell_type": "markdown",
      "metadata": {},
      "source": [
        "To analyze the colours more profoundly, we can plot an historgram for the pixel intensity for each channel:"
      ]
    },
    {
      "cell_type": "code",
      "execution_count": null,
      "metadata": {},
      "outputs": [],
      "source": [
        "# Extract the red, green, and blue channels\n",
        "red_channel = image[:,:,0]\n",
        "green_channel = image[:,:,1]\n",
        "blue_channel = image[:,:,2]\n",
        "\n",
        "# Create subplots for the histograms\n",
        "fig, axs = plt.subplots(1, 3, figsize=(12, 4))\n",
        "\n",
        "# Plot the histograms for each channel\n",
        "axs[0].hist(red_channel.flatten(), bins=50, color='red', alpha=0.5)\n",
        "axs[0].set_yscale('function', functions=(log1p_transform, expm1_transform))\n",
        "axs[0].set_title('Red Channel')\n",
        "axs[1].hist(green_channel.flatten(), bins=50, color='green', alpha=0.5)\n",
        "axs[1].set_yscale('function',functions=(log1p_transform, expm1_transform))\n",
        "axs[1].set_title('Green Channel')\n",
        "axs[2].hist(blue_channel.flatten(), bins=50, color='blue', alpha=0.5)\n",
        "axs[2].set_yscale('function', functions=(log1p_transform, expm1_transform))\n",
        "axs[2].set_title('Blue Channel')\n",
        "# Display the histograms\n",
        "plt.tight_layout()\n",
        "plt.show()"
      ]
    },
    {
      "cell_type": "markdown",
      "metadata": {},
      "source": [
        "### [practice] Empty or full?\n",
        "\n",
        "Load an image containing no bees and on containing many bees, compare the histogram with the previous image. How are they different?"
      ]
    },
    {
      "cell_type": "code",
      "execution_count": null,
      "metadata": {},
      "outputs": [],
      "source": [
        "# write your code here!"
      ]
    },
    {
      "cell_type": "markdown",
      "metadata": {},
      "source": [
        "### [practice] Classification task\n",
        "\n",
        "Now, we would like to build a program that automatically detects if there's bees on the background. Try some quantitative measures and check how they change when used on different images. To help you, I created some simple functions that you can use!\n",
        "\n"
      ]
    },
    {
      "cell_type": "code",
      "execution_count": null,
      "metadata": {},
      "outputs": [],
      "source": [
        "background = mpimg.imread('./datasets/weber_bees/presence_absence_task/018.jpg')\n",
        "one_bee = mpimg.imread('./datasets/weber_bees/presence_absence_task/015.jpg')\n",
        "two_bees = mpimg.imread('./datasets/weber_bees/presence_absence_task/017.jpg')\n",
        "many_bees = mpimg.imread('./datasets/weber_bees/presence_absence_task/016.jpg')\n",
        "plt.imshow(two_bees)"
      ]
    },
    {
      "cell_type": "code",
      "execution_count": null,
      "metadata": {},
      "outputs": [],
      "source": [
        "# functions to count pixels above and below a threshold\n",
        "\n",
        "def count_pixels_above_trheshold(image, axis, threshold):\n",
        "    return np.sum(image[:,:,axis].flatten() > threshold)\n",
        "\n",
        "def count_pixels_below_trheshold(image, axis, threshold):\n",
        "    return np.sum(image[:,:,axis].flatten() < threshold)\n",
        "\n",
        "def count_pixels_total(image, axis):\n",
        "    return image[:,:,axis].size"
      ]
    },
    {
      "cell_type": "code",
      "execution_count": null,
      "metadata": {},
      "outputs": [],
      "source": [
        "# try out the functions for yourself!"
      ]
    },
    {
      "cell_type": "markdown",
      "metadata": {},
      "source": [
        "### [practice] Test all images!\n",
        "\n",
        "Now that you tested the various functions, let's play a game! Let's find the best way to classify all images in the test folder and compare it with the manual annotation. "
      ]
    },
    {
      "cell_type": "code",
      "execution_count": null,
      "metadata": {},
      "outputs": [],
      "source": [
        "# This cell loads all the images in the folder and stores them in a list \n",
        "\n",
        "folder_path = './datasets/weber_bees/presence_absence_task/'  # Replace with the actual folder path\n",
        "\n",
        "image_list = []\n",
        "\n",
        "# Iterate over all files in the folder\n",
        "for filename in os.listdir(folder_path):\n",
        "    file_path = os.path.join(folder_path, filename)\n",
        "    \n",
        "    # Check if the file is an image\n",
        "    if os.path.isfile(file_path) and filename.lower().endswith(('.png', '.jpg', '.jpeg')):\n",
        "        try:\n",
        "            # Open the image file\n",
        "            image = mpimg.imread(file_path)\n",
        "            \n",
        "            # Append the image to the list\n",
        "            image_list.append(image)\n",
        "        except Exception as e:\n",
        "            print(f\"Error loading image: {file_path} - {e}\")\n",
        "\n",
        "# Print the number of images loaded\n",
        "print(f\"Number of images loaded: {len(image_list)}\")"
      ]
    },
    {
      "cell_type": "markdown",
      "metadata": {},
      "source": [
        "Add your code in the next chunk!"
      ]
    },
    {
      "cell_type": "code",
      "execution_count": null,
      "metadata": {},
      "outputs": [],
      "source": [
        "# complete the chunk with your code!"
      ]
    },
    {
      "cell_type": "markdown",
      "metadata": {},
      "source": [
        "Now your predictions can be tested against the true labels:"
      ]
    },
    {
      "cell_type": "code",
      "execution_count": null,
      "metadata": {},
      "outputs": [],
      "source": [
        "# load the table containing the real values\n",
        "prediction_table = pd.read_csv('datasets/weber_bees/presence_absence_task/classification.csv')\n",
        "\n",
        "# add the a column containint your predictions\n",
        "prediction_table[\"prediction\"] = prediction_list"
      ]
    },
    {
      "cell_type": "code",
      "execution_count": null,
      "metadata": {},
      "outputs": [],
      "source": [
        "\n",
        "cm = confusion_matrix(ground_truth[\"prediction\"], ground_truth[\"label\"])\n",
        "\n",
        "plt.figure(figsize=(8, 6))\n",
        "sns.heatmap(cm, annot=True, linewidths=2, fmt='d')\n",
        "plt.title(\"Confusion Matrix\", fontsize=25)\n",
        "plt.xlabel(\"Predicted\")\n",
        "plt.ylabel(\"True\")"
      ]
    }
  ],
  "metadata": {
    "colab": {
      "authorship_tag": "ABX9TyMVxDuQPjKu/iV2g40GVtmw",
      "include_colab_link": true,
      "mount_file_id": "https://github.com/agreco92/GVHD_scRNAseq/blob/main/Untitled2.ipynb",
      "provenance": []
    },
    "kernelspec": {
      "display_name": "Python 3",
      "name": "python3"
    },
    "language_info": {
      "codemirror_mode": {
        "name": "ipython",
        "version": 3
      },
      "file_extension": ".py",
      "mimetype": "text/x-python",
      "name": "python",
      "nbconvert_exporter": "python",
      "pygments_lexer": "ipython3",
      "version": "3.9.12"
    }
  },
  "nbformat": 4,
  "nbformat_minor": 0
}
