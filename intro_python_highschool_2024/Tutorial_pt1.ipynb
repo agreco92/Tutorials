{
  "cells": [
    {
      "cell_type": "code",
      "execution_count": 1,
      "metadata": {
        "id": "ekAaAWPrgekd",
        "outputId": "8b478241-ec39-44fd-ab69-2e2eec34c1a3",
        "colab": {
          "base_uri": "https://localhost:8080/"
        }
      },
      "outputs": [
        {
          "output_type": "stream",
          "name": "stdout",
          "text": [
            "Hello, World!\n"
          ]
        }
      ],
      "source": [
        "print(\"Hello, World!\")"
      ]
    },
    {
      "cell_type": "code",
      "execution_count": 2,
      "metadata": {
        "id": "7uvtB1UAgekf",
        "outputId": "dcfcbbc4-06d1-43be-d32c-5b99bf1ca301",
        "colab": {
          "base_uri": "https://localhost:8080/"
        }
      },
      "outputs": [
        {
          "output_type": "stream",
          "name": "stdout",
          "text": [
            "Alice is 15 years old.\n"
          ]
        }
      ],
      "source": [
        "name = \"Alice\"\n",
        "age = 15\n",
        "print(name, \"is\", age, \"years old.\")"
      ]
    },
    {
      "cell_type": "code",
      "execution_count": 3,
      "metadata": {
        "id": "4ATIYKoggekf",
        "outputId": "7dce6513-e29f-4ff2-ab88-2b1e30fc8ce7",
        "colab": {
          "base_uri": "https://localhost:8080/"
        }
      },
      "outputs": [
        {
          "output_type": "execute_result",
          "data": {
            "text/plain": [
              "4"
            ]
          },
          "metadata": {},
          "execution_count": 3
        }
      ],
      "source": [
        "colors = ['red', 'blue', 'green','yellow']\n",
        "len(colors)"
      ]
    },
    {
      "cell_type": "markdown",
      "source": [
        "### If statement"
      ],
      "metadata": {
        "id": "JFW4w6SB8uPb"
      }
    },
    {
      "cell_type": "markdown",
      "source": [
        "An `if` statement checks a condition: if the condition is true, Python executes the block of code under it; if the condition is false, the program can execute a different block of code under an `else` statement."
      ],
      "metadata": {
        "id": "UdIB0aM19Bvz"
      }
    },
    {
      "cell_type": "code",
      "source": [
        "# test if a number is greater then a threshold\n",
        "number = 27\n",
        "threshold = 100\n",
        "\n",
        "if number < threshold:\n",
        "  print(number, \" is greater than \", threshold)\n",
        "else:\n",
        "  print(number, \" is smaller than \", threshold)"
      ],
      "metadata": {
        "id": "gcDIDraP9AlK",
        "outputId": "ef3e7f00-fa4e-4e60-f73f-2711a7636a79",
        "colab": {
          "base_uri": "https://localhost:8080/"
        }
      },
      "execution_count": 4,
      "outputs": [
        {
          "output_type": "stream",
          "name": "stdout",
          "text": [
            "27  is greater than  100\n"
          ]
        }
      ]
    },
    {
      "cell_type": "markdown",
      "source": [
        "# New section"
      ],
      "metadata": {
        "id": "w_hbBx9eYPJJ"
      }
    },
    {
      "cell_type": "markdown",
      "source": [
        "### Loops"
      ],
      "metadata": {
        "id": "b2q7hR8cotic"
      }
    },
    {
      "cell_type": "markdown",
      "source": [
        "The `range()` function in Python creates a sequence of numbers, typically used in loops to repeat an action multiple times. You can specify the start, stop, and step of the sequence."
      ],
      "metadata": {
        "id": "MYa7S6LF6Iy6"
      }
    },
    {
      "cell_type": "code",
      "source": [
        "for i in range(0,10,1):\n",
        "  print(i)"
      ],
      "metadata": {
        "id": "U_Hv4wRp6GNO",
        "outputId": "b4a32d47-ef98-440a-82e7-b0a69a5eca73",
        "colab": {
          "base_uri": "https://localhost:8080/"
        }
      },
      "execution_count": 5,
      "outputs": [
        {
          "output_type": "stream",
          "name": "stdout",
          "text": [
            "0\n",
            "1\n",
            "2\n",
            "3\n",
            "4\n",
            "5\n",
            "6\n",
            "7\n",
            "8\n",
            "9\n"
          ]
        }
      ]
    },
    {
      "cell_type": "markdown",
      "source": [
        "But why do we need loops? For example, I can multiply all the numbers in a list *at once*!"
      ],
      "metadata": {
        "id": "9PQvjaWI013w"
      }
    },
    {
      "cell_type": "code",
      "source": [
        "numbers = [0,1,13,29,100]\n",
        "for number in numbers:\n",
        "  print(number * 10)"
      ],
      "metadata": {
        "id": "5kQmjUHk0_9m",
        "outputId": "f9ad4fbd-388b-4fd3-9e39-a225324ba3e3",
        "colab": {
          "base_uri": "https://localhost:8080/"
        }
      },
      "execution_count": 6,
      "outputs": [
        {
          "output_type": "stream",
          "name": "stdout",
          "text": [
            "0\n",
            "10\n",
            "130\n",
            "290\n",
            "1000\n"
          ]
        }
      ]
    },
    {
      "cell_type": "markdown",
      "source": [
        "#### Exercise\n",
        "1. Create a list of your top 5 movies (or songs) and print them sequentially. E.g.: \"Movie nr 5 in my favourite list is Barbie\"\n",
        "\n",
        "*Tip: Use range and a for loop to access specific positions in the list*\n",
        "2. Movie ranked 0 sounds weird -  Try to make the list a bit more readable, from 1 to 5\n",
        "3. Everybody likes suspance! -  Print the list from worst to best"
      ],
      "metadata": {
        "id": "1ult4Gmr4Hb7"
      }
    },
    {
      "cell_type": "code",
      "source": [
        "top5 = [\"Infinity War\", \"Interstellar\", \"Her\", \"Barbie\"]\n",
        "for i in range(len(top5)):\n",
        "  print(\"Movie nr\", i, \"of my favourite list is \", top5[i])"
      ],
      "metadata": {
        "id": "ccG_xpj3BEjA",
        "outputId": "3b03a408-3a8b-49c5-bdaa-1a4335b51d21",
        "colab": {
          "base_uri": "https://localhost:8080/"
        }
      },
      "execution_count": 7,
      "outputs": [
        {
          "output_type": "stream",
          "name": "stdout",
          "text": [
            "Movie nr 0 of my favourite list is  Infinity War\n",
            "Movie nr 1 of my favourite list is  Interstellar\n",
            "Movie nr 2 of my favourite list is  Her\n",
            "Movie nr 3 of my favourite list is  Barbie\n"
          ]
        }
      ]
    },
    {
      "cell_type": "code",
      "source": [],
      "metadata": {
        "id": "iPEjE-wuCJra"
      },
      "execution_count": null,
      "outputs": []
    }
  ],
  "metadata": {
    "language_info": {
      "name": "python"
    },
    "colab": {
      "provenance": [],
      "toc_visible": true
    },
    "kernelspec": {
      "name": "python3",
      "display_name": "Python 3"
    }
  },
  "nbformat": 4,
  "nbformat_minor": 0
}