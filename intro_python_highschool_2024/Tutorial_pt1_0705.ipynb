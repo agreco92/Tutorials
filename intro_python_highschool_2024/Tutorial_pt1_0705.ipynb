{
  "cells": [
    {
      "cell_type": "markdown",
      "metadata": {
        "id": "view-in-github",
        "colab_type": "text"
      },
      "source": [
        "<a href=\"https://colab.research.google.com/github/agreco92/Tutorials/blob/main/Tutorial_pt1_0705.ipynb\" target=\"_parent\"><img src=\"https://colab.research.google.com/assets/colab-badge.svg\" alt=\"Open In Colab\"/></a>"
      ]
    },
    {
      "cell_type": "code",
      "execution_count": null,
      "metadata": {
        "id": "ekAaAWPrgekd",
        "outputId": "8b478241-ec39-44fd-ab69-2e2eec34c1a3",
        "colab": {
          "base_uri": "https://localhost:8080/"
        }
      },
      "outputs": [
        {
          "output_type": "stream",
          "name": "stdout",
          "text": [
            "Hello, World!\n"
          ]
        }
      ],
      "source": [
        "print(\"Hello, World!\")"
      ]
    },
    {
      "cell_type": "code",
      "execution_count": null,
      "metadata": {
        "id": "7uvtB1UAgekf",
        "outputId": "dcfcbbc4-06d1-43be-d32c-5b99bf1ca301",
        "colab": {
          "base_uri": "https://localhost:8080/"
        }
      },
      "outputs": [
        {
          "output_type": "stream",
          "name": "stdout",
          "text": [
            "Alice is 15 years old.\n"
          ]
        }
      ],
      "source": [
        "name = \"Alice\"\n",
        "age = 15\n",
        "print(name, \"is\", age, \"years old.\")"
      ]
    },
    {
      "cell_type": "code",
      "execution_count": null,
      "metadata": {
        "id": "4ATIYKoggekf",
        "outputId": "7dce6513-e29f-4ff2-ab88-2b1e30fc8ce7",
        "colab": {
          "base_uri": "https://localhost:8080/"
        }
      },
      "outputs": [
        {
          "output_type": "execute_result",
          "data": {
            "text/plain": [
              "4"
            ]
          },
          "metadata": {},
          "execution_count": 3
        }
      ],
      "source": [
        "colors = ['red', 'blue', 'green','yellow']\n",
        "len(colors)"
      ]
    },
    {
      "cell_type": "markdown",
      "source": [
        "### If statement"
      ],
      "metadata": {
        "id": "JFW4w6SB8uPb"
      }
    },
    {
      "cell_type": "markdown",
      "source": [
        "An `if` statement checks a condition: if the condition is true, Python executes the block of code under it; if the condition is false, the program can execute a different block of code under an `else` statement."
      ],
      "metadata": {
        "id": "UdIB0aM19Bvz"
      }
    },
    {
      "cell_type": "code",
      "source": [
        "# test if a number is greater then a threshold\n",
        "number = 27\n",
        "threshold = 100\n",
        "\n",
        "if number < threshold:\n",
        "  print(number, \" is greater than \", threshold)\n",
        "else:\n",
        "  print(number, \" is smaller than \", threshold)"
      ],
      "metadata": {
        "id": "gcDIDraP9AlK",
        "outputId": "ef3e7f00-fa4e-4e60-f73f-2711a7636a79",
        "colab": {
          "base_uri": "https://localhost:8080/"
        }
      },
      "execution_count": null,
      "outputs": [
        {
          "output_type": "stream",
          "name": "stdout",
          "text": [
            "27  is greater than  100\n"
          ]
        }
      ]
    },
    {
      "cell_type": "markdown",
      "source": [
        "### Loops"
      ],
      "metadata": {
        "id": "b2q7hR8cotic"
      }
    },
    {
      "cell_type": "markdown",
      "source": [
        "The `range()` function in Python creates a sequence of numbers, typically used in loops to repeat an action multiple times. You can specify the start, stop, and step of the sequence."
      ],
      "metadata": {
        "id": "MYa7S6LF6Iy6"
      }
    },
    {
      "cell_type": "code",
      "source": [
        "for i in range(0,10,1):\n",
        "  print(i)"
      ],
      "metadata": {
        "id": "U_Hv4wRp6GNO",
        "outputId": "b4a32d47-ef98-440a-82e7-b0a69a5eca73",
        "colab": {
          "base_uri": "https://localhost:8080/"
        }
      },
      "execution_count": null,
      "outputs": [
        {
          "output_type": "stream",
          "name": "stdout",
          "text": [
            "0\n",
            "1\n",
            "2\n",
            "3\n",
            "4\n",
            "5\n",
            "6\n",
            "7\n",
            "8\n",
            "9\n"
          ]
        }
      ]
    },
    {
      "cell_type": "markdown",
      "source": [
        "But why do we need loops? For example, I can multiply all the numbers in a list *at once*!"
      ],
      "metadata": {
        "id": "9PQvjaWI013w"
      }
    },
    {
      "cell_type": "code",
      "source": [
        "numbers = [0,1,13,29,100]\n",
        "for number in numbers:\n",
        "  print(number * 10)"
      ],
      "metadata": {
        "id": "5kQmjUHk0_9m",
        "outputId": "f9ad4fbd-388b-4fd3-9e39-a225324ba3e3",
        "colab": {
          "base_uri": "https://localhost:8080/"
        }
      },
      "execution_count": null,
      "outputs": [
        {
          "output_type": "stream",
          "name": "stdout",
          "text": [
            "0\n",
            "10\n",
            "130\n",
            "290\n",
            "1000\n"
          ]
        }
      ]
    },
    {
      "cell_type": "markdown",
      "source": [
        "#### Exercise\n",
        "1. Create a list of your top 5 movies (or songs) and print them sequentially. E.g.: \"Movie nr 5 in my favourite list is Barbie\"\n",
        "\n",
        "*Tip: Use range and a for loop to access specific positions in the list*\n",
        "2. Movie ranked 0 sounds weird -  Try to make the list a bit more readable, from 1 to 5\n",
        "3. Everybody likes suspance! -  Print the list from worst to best"
      ],
      "metadata": {
        "id": "1ult4Gmr4Hb7"
      }
    },
    {
      "cell_type": "code",
      "source": [
        "top5 = [\"Infinity War\", \"Interstellar\", \"Her\", \"Barbie\"]\n",
        "for i in range(len(top5)):\n",
        "  print(\"Movie nr\", i, \"of my favourite list is \", top5[i])"
      ],
      "metadata": {
        "id": "ccG_xpj3BEjA",
        "outputId": "3b03a408-3a8b-49c5-bdaa-1a4335b51d21",
        "colab": {
          "base_uri": "https://localhost:8080/"
        }
      },
      "execution_count": null,
      "outputs": [
        {
          "output_type": "stream",
          "name": "stdout",
          "text": [
            "Movie nr 0 of my favourite list is  Infinity War\n",
            "Movie nr 1 of my favourite list is  Interstellar\n",
            "Movie nr 2 of my favourite list is  Her\n",
            "Movie nr 3 of my favourite list is  Barbie\n"
          ]
        }
      ]
    },
    {
      "cell_type": "markdown",
      "source": [
        "# Higher dimensions: introduction to numpy arrays\n"
      ],
      "metadata": {
        "id": "w_hbBx9eYPJJ"
      }
    },
    {
      "cell_type": "markdown",
      "source": [
        "## Create and access multidimensional arrays"
      ],
      "metadata": {
        "id": "pVN_f4hHl8ff"
      }
    },
    {
      "cell_type": "code",
      "source": [
        "import numpy as np\n",
        "array = np.array([1,2,3])"
      ],
      "metadata": {
        "id": "iPEjE-wuCJra"
      },
      "execution_count": 1,
      "outputs": []
    },
    {
      "cell_type": "code",
      "source": [
        "print(array.shape, array.size, array.dtype)"
      ],
      "metadata": {
        "id": "PUMWr3D9e47W",
        "outputId": "2a62cf8e-c8e1-4902-c5ad-496ea669f11e",
        "colab": {
          "base_uri": "https://localhost:8080/"
        }
      },
      "execution_count": 2,
      "outputs": [
        {
          "output_type": "stream",
          "name": "stdout",
          "text": [
            "(3,) 3 int64\n"
          ]
        }
      ]
    },
    {
      "cell_type": "markdown",
      "source": [
        "#### Matrices"
      ],
      "metadata": {
        "id": "NPHaHn6ffrsQ"
      }
    },
    {
      "cell_type": "code",
      "source": [
        "matrix = np.array([[1, 2, 3], [4, 5, 6], [7, 8, 9]])\n",
        "print(matrix)"
      ],
      "metadata": {
        "id": "YTzFcykKe9x2",
        "outputId": "a8cbf8a2-3348-4592-dd85-86db6bbee087",
        "colab": {
          "base_uri": "https://localhost:8080/"
        }
      },
      "execution_count": 3,
      "outputs": [
        {
          "output_type": "stream",
          "name": "stdout",
          "text": [
            "[[1 2 3]\n",
            " [4 5 6]\n",
            " [7 8 9]]\n"
          ]
        }
      ]
    },
    {
      "cell_type": "markdown",
      "source": [
        "Matrices do not have just one index, but two: One for rows, and one for columns!\n"
      ],
      "metadata": {
        "id": "d7oIIz39gY0G"
      }
    },
    {
      "cell_type": "code",
      "source": [
        "print(\"First row:\", matrix[0,:])\n",
        "print(\"First column:\", matrix[:,0])\n",
        "print(\"First element of first row:\", matrix[0][0])\n",
        "print(\"Element in second row, third column:\", matrix[1][2])\n"
      ],
      "metadata": {
        "id": "4t3mjb5Zfuor",
        "outputId": "4ff29103-77cd-4e36-effe-e95a87de86cf",
        "colab": {
          "base_uri": "https://localhost:8080/"
        }
      },
      "execution_count": 9,
      "outputs": [
        {
          "output_type": "stream",
          "name": "stdout",
          "text": [
            "First row: [1 2 3]\n",
            "First column: [1 4 7]\n",
            "First element of first row: 1\n",
            "Element in second row, third column: 6\n"
          ]
        }
      ]
    },
    {
      "cell_type": "markdown",
      "source": [
        "#### Exercise\n",
        "1. Create a matrix with 4 rows and 5 columns\n",
        "2. Create a loop that prints each row of the matrix\n",
        "3. Create a loop that prints each column\n",
        "4. Create a nested loop (two for loops inside each other) that prints each element of the matrix"
      ],
      "metadata": {
        "id": "ldiOfKJjjUrA"
      }
    },
    {
      "cell_type": "code",
      "source": [],
      "metadata": {
        "id": "nuRt0NFykyGZ"
      },
      "execution_count": null,
      "outputs": []
    },
    {
      "cell_type": "markdown",
      "source": [
        "### Matrix operations\n"
      ],
      "metadata": {
        "id": "iwxxI7egmIHv"
      }
    },
    {
      "cell_type": "markdown",
      "source": [
        "You can add and subtract arrays of the same size:"
      ],
      "metadata": {
        "id": "tJmZBfSMmTFR"
      }
    },
    {
      "cell_type": "code",
      "source": [
        "A = np.array([[1, 2], [3, 4]])\n",
        "B = np.array([[2, 3], [0, 1]])\n",
        "\n",
        "# Matrix Addition\n",
        "C = A + B\n",
        "print(\"Added Matrices:\\n\", C)\n",
        "\n",
        "# Matrix Subtraction\n",
        "D = A - B\n",
        "print(\"Subtracted Matrices:\\n\", D)\n"
      ],
      "metadata": {
        "id": "9Yq1UJ6rmXL7",
        "outputId": "1609ce80-0b90-400e-de64-46e203564693",
        "colab": {
          "base_uri": "https://localhost:8080/"
        }
      },
      "execution_count": 10,
      "outputs": [
        {
          "output_type": "stream",
          "name": "stdout",
          "text": [
            "Added Matrices:\n",
            " [[3 5]\n",
            " [3 5]]\n",
            "Subtracted Matrices:\n",
            " [[-1 -1]\n",
            " [ 3  3]]\n"
          ]
        }
      ]
    },
    {
      "cell_type": "markdown",
      "source": [
        "There's several ways to multiply matrices. For example, one can multiply each element of a matrix for the same number (called *scalar* in this context), or multiply two matrices of the same size element by element (Element-wise product, or *Hadamard* product)\n",
        "\n",
        "> Add blockquote\n",
        "\n"
      ],
      "metadata": {
        "id": "P5Se3FLumlWl"
      }
    },
    {
      "cell_type": "code",
      "source": [
        "# Scalar Multiplication\n",
        "scalar = 3\n",
        "E = scalar * A\n",
        "print(\"Scalar Multiplied Matrix:\\n\", E)\n",
        "\n",
        "# Element-wise Multiplication\n",
        "C = A * B  # Using the '*' operator for element-wise multiplication\n",
        "print(\"Element-wise multiplied Matrix C:\\n\", C)"
      ],
      "metadata": {
        "id": "VzKxehfEmZ7w",
        "outputId": "8b983af5-c7bf-4342-ad20-f78f8436f816",
        "colab": {
          "base_uri": "https://localhost:8080/"
        }
      },
      "execution_count": 13,
      "outputs": [
        {
          "output_type": "stream",
          "name": "stdout",
          "text": [
            "Scalar Multiplied Matrix:\n",
            " [[ 3  6]\n",
            " [ 9 12]]\n",
            "Element-wise multiplied Matrix C:\n",
            " [[2 6]\n",
            " [0 4]]\n"
          ]
        }
      ]
    },
    {
      "cell_type": "code",
      "source": [
        "# visualization\n",
        "import seaborn as sns\n",
        "\n",
        "sns.heatmap(A, annot = True)"
      ],
      "metadata": {
        "id": "ae2_MSQKnht2",
        "outputId": "a8031855-cb28-420e-95f5-06d88cb55721",
        "colab": {
          "base_uri": "https://localhost:8080/",
          "height": 453
        }
      },
      "execution_count": 16,
      "outputs": [
        {
          "output_type": "execute_result",
          "data": {
            "text/plain": [
              "<Axes: >"
            ]
          },
          "metadata": {},
          "execution_count": 16
        },
        {
          "output_type": "display_data",
          "data": {
            "text/plain": [
              "<Figure size 640x480 with 2 Axes>"
            ],
            "image/png": "[encoded data removed]"
          },
          "metadata": {}
        }
      ]
    },
    {
      "cell_type": "code",
      "source": [],
      "metadata": {
        "id": "riUdvTxsrxvu"
      },
      "execution_count": null,
      "outputs": []
    },
    {
      "cell_type": "markdown",
      "source": [
        "#### Exercise\n",
        "1. Create a 5x5 matrix of random numbers using the np.random.randn function\n",
        "2. Create a mask matrix made of 1 and 0s such that the zeros are placed in a 3x3 window in the middle\n",
        "*Tip* Start by creating a matrix made of ones using np.ones, then use the slicing operations to set the middle cells to 0\n",
        "2. Use the mask matrix to create a random matrix with \"a hole\" of zeroes in a 2x2 window in the middle."
      ],
      "metadata": {
        "id": "Yf0wHiAGsDcZ"
      }
    },
    {
      "cell_type": "code",
      "source": [
        "# Step 1: Create a 5x5 matrix of random numbers using np.random.randn function\n",
        "random_matrix = np.random.randn(5, 5)\n",
        "print(\"Original Random Matrix:\\n\", random_matrix)\n",
        "\n",
        "# Step 2: Create a mask matrix made of 1s and 0s such that the zeros are placed in a 3x3 window in the middle\n",
        "mask_matrix = np.ones((5, 5))\n",
        "mask_matrix[1:4, 1:4] = 0\n",
        "print(\"Mask Matrix:\\n\", mask_matrix)\n",
        "\n",
        "# Step 3: Use the mask matrix to create a random matrix with a \"hole\" of zeros in a 3x3 window in the middle\n",
        "masked_random_matrix = random_matrix * mask_matrix\n",
        "print(\"Random Matrix with a 3x3 Hole:\\n\", masked_random_matrix)\n"
      ],
      "metadata": {
        "id": "ynyJNAkesS6d",
        "outputId": "2086fbc4-faf0-4958-8d38-1de4a8c04f34",
        "colab": {
          "base_uri": "https://localhost:8080/"
        }
      },
      "execution_count": 20,
      "outputs": [
        {
          "output_type": "stream",
          "name": "stdout",
          "text": [
            "Original Random Matrix:\n",
            " [[-2.50669101 -0.27280564  0.75480834  0.49997654  0.96937388]\n",
            " [ 0.83732698 -0.04782412  0.08591951  0.52572333 -1.51253911]\n",
            " [ 0.44834987  0.42394938  1.00478306 -1.04212716  0.47136108]\n",
            " [ 0.04938867 -0.35734898  0.12337159 -0.38255465  0.5465849 ]\n",
            " [ 0.00387645  0.92435094  0.01596505 -1.46281444 -0.37642433]]\n",
            "Mask Matrix:\n",
            " [[1. 1. 1. 1. 1.]\n",
            " [1. 0. 0. 0. 1.]\n",
            " [1. 0. 0. 0. 1.]\n",
            " [1. 0. 0. 0. 1.]\n",
            " [1. 1. 1. 1. 1.]]\n",
            "Random Matrix with a 3x3 Hole:\n",
            " [[-2.50669101 -0.27280564  0.75480834  0.49997654  0.96937388]\n",
            " [ 0.83732698 -0.          0.          0.         -1.51253911]\n",
            " [ 0.44834987  0.          0.         -0.          0.47136108]\n",
            " [ 0.04938867 -0.          0.         -0.          0.5465849 ]\n",
            " [ 0.00387645  0.92435094  0.01596505 -1.46281444 -0.37642433]]\n"
          ]
        }
      ]
    },
    {
      "cell_type": "code",
      "source": [],
      "metadata": {
        "id": "fHKGsWxpsnZA"
      },
      "execution_count": null,
      "outputs": []
    }
  ],
  "metadata": {
    "language_info": {
      "name": "python"
    },
    "colab": {
      "provenance": [],
      "include_colab_link": true
    },
    "kernelspec": {
      "name": "python3",
      "display_name": "Python 3"
    }
  },
  "nbformat": 4,
  "nbformat_minor": 0
}